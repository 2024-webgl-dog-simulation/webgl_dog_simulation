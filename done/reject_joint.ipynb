{
  "cells": [
    {
      "cell_type": "code",
      "execution_count": null,
      "id": "44729908-5db3-4eea-b53e-e27c1148b0a2",
      "metadata": {
        "id": "44729908-5db3-4eea-b53e-e27c1148b0a2"
      },
      "outputs": [],
      "source": [
        "def reject_fin_joint(bvh_file_path, num_channels=6):\n",
        "    with open(bvh_file_path, 'r') as file:\n",
        "        lines = file.readlines()\n",
        "\n",
        "    # 모션 섹션 찾기\n",
        "    motion_start = lines.index(\"MOTION\\n\")\n",
        "    header = lines[:motion_start + 3]  # MOTION 섹션 헤더 포함\n",
        "    motion_data = lines[motion_start + 3:]\n",
        "\n",
        "    # 프레임 데이터 수정\n",
        "    new_motion_data = []\n",
        "    for data in motion_data:\n",
        "        frame_data = data.split()\n",
        "        # 끝에서 num_channels 만큼 데이터 제거\n",
        "        new_frame_data = frame_data[:-num_channels]\n",
        "        new_motion_data.append(' '.join(new_frame_data) + '\\n')\n",
        "\n",
        "    # 동일한 파일에 수정된 내용 저장\n",
        "    with open(bvh_file_path, 'w') as file:\n",
        "        file.writelines(header + new_motion_data)\n",
        "\n",
        "# 사용 예시\n",
        "bvh_file_path = 'C:\\\\Users\\\\82108\\\\OneDrive\\\\Desktop\\\\walks round turns right.bvh'\n",
        "reject_fin_joint(bvh_file_path)"
      ]
    },
    {
      "cell_type": "code",
      "execution_count": null,
      "id": "5de86a47-c176-446a-91b5-74063ea85332",
      "metadata": {
        "id": "5de86a47-c176-446a-91b5-74063ea85332"
      },
      "outputs": [],
      "source": [
        "def update_joint_data_in_place(bvh_file_path, start_index=36, num_elements=12):\n",
        "    with open(bvh_file_path, 'r') as file:\n",
        "        lines = file.readlines()\n",
        "\n",
        "    # 모션 섹션 찾기\n",
        "    motion_start = lines.index(\"MOTION\\n\")\n",
        "    header = lines[:motion_start + 3]  # MOTION 섹션 헤더 포함\n",
        "    motion_data = lines[motion_start + 3:]\n",
        "\n",
        "    # 프레임 데이터 수정\n",
        "    new_motion_data = []\n",
        "    for data in motion_data:\n",
        "        frame_data = data.split()\n",
        "        # 특정 인덱스 범위의 요소 제거\n",
        "        del frame_data[start_index:start_index + num_elements]\n",
        "        new_motion_data.append(' '.join(frame_data) + '\\n')\n",
        "\n",
        "    # 동일한 파일에 수정된 내용 저장\n",
        "    with open(bvh_file_path, 'w') as file:\n",
        "        file.writelines(header + new_motion_data)\n",
        "\n",
        "# 사용 예시\n",
        "bvh_file_path = 'C:\\\\Users\\\\82108\\\\OneDrive\\\\Desktop\\\\walks round turns right.bvh'\n",
        "update_joint_data_in_place(bvh_file_path)"
      ]
    },
    {
      "cell_type": "code",
      "execution_count": null,
      "id": "4edeb80e-c9d7-4703-b160-3c37ef729f3d",
      "metadata": {
        "id": "4edeb80e-c9d7-4703-b160-3c37ef729f3d"
      },
      "outputs": [],
      "source": [
        "def update_joint_data_in_place(bvh_file_path, start_index=66, num_elements=12):\n",
        "    with open(bvh_file_path, 'r') as file:\n",
        "        lines = file.readlines()\n",
        "\n",
        "    # 모션 섹션 찾기\n",
        "    motion_start = lines.index(\"MOTION\\n\")\n",
        "    header = lines[:motion_start + 3]  # MOTION 섹션 헤더 포함\n",
        "    motion_data = lines[motion_start + 3:]\n",
        "\n",
        "    # 프레임 데이터 수정\n",
        "    new_motion_data = []\n",
        "    for data in motion_data:\n",
        "        frame_data = data.split()\n",
        "        # 특정 인덱스 범위의 요소 제거\n",
        "        del frame_data[start_index:start_index + num_elements]\n",
        "        new_motion_data.append(' '.join(frame_data) + '\\n')\n",
        "\n",
        "    # 동일한 파일에 수정된 내용 저장\n",
        "    with open(bvh_file_path, 'w') as file:\n",
        "        file.writelines(header + new_motion_data)\n",
        "\n",
        "# 사용 예시\n",
        "bvh_file_path = 'C:\\\\Users\\\\82108\\\\OneDrive\\\\Desktop\\\\walks round turns right.bvh'\n",
        "update_joint_data_in_place(bvh_file_path)"
      ]
    },
    {
      "cell_type": "code",
      "execution_count": null,
      "id": "cd6e5a25-6370-4433-8fbe-838852d08b19",
      "metadata": {
        "id": "cd6e5a25-6370-4433-8fbe-838852d08b19"
      },
      "outputs": [],
      "source": [
        "def update_joint_data_in_place(bvh_file_path, start_index=126, num_elements=6):\n",
        "    with open(bvh_file_path, 'r') as file:\n",
        "        lines = file.readlines()\n",
        "\n",
        "    # 모션 섹션 찾기\n",
        "    motion_start = lines.index(\"MOTION\\n\")\n",
        "    header = lines[:motion_start + 3]  # MOTION 섹션 헤더 포함\n",
        "    motion_data = lines[motion_start + 3:]\n",
        "\n",
        "    # 프레임 데이터 수정\n",
        "    new_motion_data = []\n",
        "    for data in motion_data:\n",
        "        frame_data = data.split()\n",
        "        # 특정 인덱스 범위의 요소 제거\n",
        "        del frame_data[start_index:start_index + num_elements]\n",
        "        new_motion_data.append(' '.join(frame_data) + '\\n')\n",
        "\n",
        "    # 동일한 파일에 수정된 내용 저장\n",
        "    with open(bvh_file_path, 'w') as file:\n",
        "        file.writelines(header + new_motion_data)\n",
        "\n",
        "# 사용 예시\n",
        "bvh_file_path = 'C:\\\\Users\\\\82108\\\\OneDrive\\\\Desktop\\\\walks round turns right.bvh'\n",
        "update_joint_data_in_place(bvh_file_path)"
      ]
    },
    {
      "cell_type": "code",
      "execution_count": null,
      "id": "0e6002a9-2640-439e-9f62-be0913e69610",
      "metadata": {
        "id": "0e6002a9-2640-439e-9f62-be0913e69610"
      },
      "outputs": [],
      "source": [
        "def update_joint_data_in_place(bvh_file_path, start_index=156, num_elements=6):\n",
        "    with open(bvh_file_path, 'r') as file:\n",
        "        lines = file.readlines()\n",
        "\n",
        "    # 모션 섹션 찾기\n",
        "    motion_start = lines.index(\"MOTION\\n\")\n",
        "    header = lines[:motion_start + 3]  # MOTION 섹션 헤더 포함\n",
        "    motion_data = lines[motion_start + 3:]\n",
        "\n",
        "    # 프레임 데이터 수정\n",
        "    new_motion_data = []\n",
        "    for data in motion_data:\n",
        "        frame_data = data.split()\n",
        "        # 특정 인덱스 범위의 요소 제거\n",
        "        del frame_data[start_index:start_index + num_elements]\n",
        "        new_motion_data.append(' '.join(frame_data) + '\\n')\n",
        "\n",
        "    # 동일한 파일에 수정된 내용 저장\n",
        "    with open(bvh_file_path, 'w') as file:\n",
        "        file.writelines(header + new_motion_data)\n",
        "\n",
        "# 사용 예시\n",
        "bvh_file_path = 'C:\\\\Users\\\\82108\\\\OneDrive\\\\Desktop\\\\walks round turns right.bvh'\n",
        "update_joint_data_in_place(bvh_file_path)"
      ]
    },
    {
      "cell_type": "code",
      "execution_count": null,
      "id": "9593f217-d978-4ee9-bd48-6cc160b9bc6c",
      "metadata": {
        "id": "9593f217-d978-4ee9-bd48-6cc160b9bc6c"
      },
      "outputs": [],
      "source": []
    }
  ],
  "metadata": {
    "kernelspec": {
      "display_name": "Python 3 (ipykernel)",
      "language": "python",
      "name": "python3"
    },
    "language_info": {
      "codemirror_mode": {
        "name": "ipython",
        "version": 3
      },
      "file_extension": ".py",
      "mimetype": "text/x-python",
      "name": "python",
      "nbconvert_exporter": "python",
      "pygments_lexer": "ipython3",
      "version": "3.11.7"
    },
    "colab": {
      "provenance": []
    }
  },
  "nbformat": 4,
  "nbformat_minor": 5
}